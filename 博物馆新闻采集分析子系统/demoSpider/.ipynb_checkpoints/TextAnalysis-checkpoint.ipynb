{
 "cells": [
  {
   "cell_type": "code",
   "execution_count": 1,
   "metadata": {},
   "outputs": [],
   "source": [
    "import pandas as pd\n",
    "import numpy as np\n",
    "import jieba"
   ]
  },
  {
   "cell_type": "code",
   "execution_count": 2,
   "metadata": {},
   "outputs": [],
   "source": [
    "text = pd.read_json('items.json')"
   ]
  },
  {
   "cell_type": "code",
   "execution_count": 3,
   "metadata": {},
   "outputs": [
    {
     "data": {
      "text/html": [
       "<div>\n",
       "<style scoped>\n",
       "    .dataframe tbody tr th:only-of-type {\n",
       "        vertical-align: middle;\n",
       "    }\n",
       "\n",
       "    .dataframe tbody tr th {\n",
       "        vertical-align: top;\n",
       "    }\n",
       "\n",
       "    .dataframe thead th {\n",
       "        text-align: right;\n",
       "    }\n",
       "</style>\n",
       "<table border=\"1\" class=\"dataframe\">\n",
       "  <thead>\n",
       "    <tr style=\"text-align: right;\">\n",
       "      <th></th>\n",
       "      <th>id</th>\n",
       "      <th>content</th>\n",
       "    </tr>\n",
       "  </thead>\n",
       "  <tbody>\n",
       "    <tr>\n",
       "      <th>0</th>\n",
       "      <td>4</td>\n",
       "      <td>[带来, 溧阳, 博物馆, 馆藏, 第三十二, 期, 元代, 梵文, 准提, 咒镜, 铜镜,...</td>\n",
       "    </tr>\n",
       "    <tr>\n",
       "      <th>1</th>\n",
       "      <td>6</td>\n",
       "      <td>[集合, 动物, 森友会, 开启, 地球日, 活动, 小吉为, 动森, 隐藏, 资料, 相关...</td>\n",
       "    </tr>\n",
       "    <tr>\n",
       "      <th>2</th>\n",
       "      <td>8</td>\n",
       "      <td>[生活, 中, 写得, 一手, 楷书, 书法家, 最为, 熟知, 无非, 几位, 田楷, 代...</td>\n",
       "    </tr>\n",
       "    <tr>\n",
       "      <th>3</th>\n",
       "      <td>11</td>\n",
       "      <td>[国家博物馆, 陈放, 精美绝伦, 文物, 身上, 散发出, 特有, 光芒, 气息, 世人,...</td>\n",
       "    </tr>\n",
       "    <tr>\n",
       "      <th>4</th>\n",
       "      <td>13</td>\n",
       "      <td>[梁振文, 抗疫, 书法, 作品展, 海口市, 博物馆, 展出, 南海, 网, 陈望, 摄,...</td>\n",
       "    </tr>\n",
       "    <tr>\n",
       "      <th>...</th>\n",
       "      <td>...</td>\n",
       "      <td>...</td>\n",
       "    </tr>\n",
       "    <tr>\n",
       "      <th>182</th>\n",
       "      <td>297</td>\n",
       "      <td>[来源, 创事记, 关注, 创事记, 微信, 订阅, 号, sinachuangshiji,...</td>\n",
       "    </tr>\n",
       "    <tr>\n",
       "      <th>183</th>\n",
       "      <td>298</td>\n",
       "      <td>[人民网, 北京, 日电, 田虎, 昨天, 中国, 国家博物馆, 官网, 发布公告, 公告,...</td>\n",
       "    </tr>\n",
       "    <tr>\n",
       "      <th>184</th>\n",
       "      <td>299</td>\n",
       "      <td>[青海, 藏, 文化, 博物院, 恢复, 开放, 青海, 藏, 文化, 博物院, 落实, 疫...</td>\n",
       "    </tr>\n",
       "    <tr>\n",
       "      <th>185</th>\n",
       "      <td>301</td>\n",
       "      <td>[我家, 房子, 很大, 顶层, 有个, 高耸, 阁楼, 屋外, 陡峭, 斜坡, 马厩, 车...</td>\n",
       "    </tr>\n",
       "    <tr>\n",
       "      <th>186</th>\n",
       "      <td>302</td>\n",
       "      <td>[大都会, 艺术, 博物馆, 一群, 美国, 公民, 发起, 构建, 发起人, 包括, 商人...</td>\n",
       "    </tr>\n",
       "  </tbody>\n",
       "</table>\n",
       "<p>187 rows × 2 columns</p>\n",
       "</div>"
      ],
      "text/plain": [
       "      id                                            content\n",
       "0      4  [带来, 溧阳, 博物馆, 馆藏, 第三十二, 期, 元代, 梵文, 准提, 咒镜, 铜镜,...\n",
       "1      6  [集合, 动物, 森友会, 开启, 地球日, 活动, 小吉为, 动森, 隐藏, 资料, 相关...\n",
       "2      8  [生活, 中, 写得, 一手, 楷书, 书法家, 最为, 熟知, 无非, 几位, 田楷, 代...\n",
       "3     11  [国家博物馆, 陈放, 精美绝伦, 文物, 身上, 散发出, 特有, 光芒, 气息, 世人,...\n",
       "4     13  [梁振文, 抗疫, 书法, 作品展, 海口市, 博物馆, 展出, 南海, 网, 陈望, 摄,...\n",
       "..   ...                                                ...\n",
       "182  297  [来源, 创事记, 关注, 创事记, 微信, 订阅, 号, sinachuangshiji,...\n",
       "183  298  [人民网, 北京, 日电, 田虎, 昨天, 中国, 国家博物馆, 官网, 发布公告, 公告,...\n",
       "184  299  [青海, 藏, 文化, 博物院, 恢复, 开放, 青海, 藏, 文化, 博物院, 落实, 疫...\n",
       "185  301  [我家, 房子, 很大, 顶层, 有个, 高耸, 阁楼, 屋外, 陡峭, 斜坡, 马厩, 车...\n",
       "186  302  [大都会, 艺术, 博物馆, 一群, 美国, 公民, 发起, 构建, 发起人, 包括, 商人...\n",
       "\n",
       "[187 rows x 2 columns]"
      ]
     },
     "execution_count": 3,
     "metadata": {},
     "output_type": "execute_result"
    }
   ],
   "source": [
    "text"
   ]
  },
  {
   "cell_type": "code",
   "execution_count": null,
   "metadata": {},
   "outputs": [],
   "source": []
  },
  {
   "cell_type": "code",
   "execution_count": null,
   "metadata": {},
   "outputs": [],
   "source": []
  },
  {
   "cell_type": "code",
   "execution_count": null,
   "metadata": {},
   "outputs": [],
   "source": []
  },
  {
   "cell_type": "code",
   "execution_count": null,
   "metadata": {},
   "outputs": [],
   "source": []
  },
  {
   "cell_type": "code",
   "execution_count": null,
   "metadata": {},
   "outputs": [],
   "source": []
  }
 ],
 "metadata": {
  "kernelspec": {
   "display_name": "Python 3",
   "language": "python",
   "name": "python3"
  },
  "language_info": {
   "codemirror_mode": {
    "name": "ipython",
    "version": 3
   },
   "file_extension": ".py",
   "mimetype": "text/x-python",
   "name": "python",
   "nbconvert_exporter": "python",
   "pygments_lexer": "ipython3",
   "version": "3.7.7"
  }
 },
 "nbformat": 4,
 "nbformat_minor": 4
}
